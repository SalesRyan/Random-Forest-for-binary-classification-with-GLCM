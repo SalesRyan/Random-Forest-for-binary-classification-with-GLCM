{
 "cells": [
  {
   "cell_type": "code",
   "execution_count": 59,
   "metadata": {},
   "outputs": [],
   "source": [
    "from skimage.feature import greycomatrix, greycoprops\n",
    "from skimage.color import rgb2gray\n",
    "from skimage.io import imread_collection\n",
    "from skimage import img_as_ubyte\n",
    "from tqdm import tqdm\n",
    "\n",
    "import numpy as np"
   ]
  },
  {
   "cell_type": "code",
   "execution_count": 20,
   "metadata": {},
   "outputs": [],
   "source": [
    "Glaucoma = imread_collection(\"../Documents/Bases/Drishti-GS1/Training/Glaucoma/*.png\")\n",
    "Normal = imread_collection(\"../Documents/Bases/Drishti-GS1/Training/Normal/*.png\")"
   ]
  },
  {
   "cell_type": "code",
   "execution_count": 55,
   "metadata": {},
   "outputs": [],
   "source": [
    "def GLCM(img):\n",
    "    img = rgb2gray(img)\n",
    "    img = img_as_ubyte(img)\n",
    "    \n",
    "    bins = np.array([0, 32, 64, 96, 128, 160, 192, 224, 255]) # 8 bits\n",
    "    inds = np.digitize(img, bins)\n",
    "    \n",
    "    max_value = inds.max()+1\n",
    " \n",
    "    matrix_coocurrence = greycomatrix(inds, [1], [0, np.pi/4, np.pi/2, 3*np.pi/4], levels=max_value, normed=False, symmetric=False)\n",
    "    \n",
    "    feat = []\n",
    "    contraste = greycoprops(matrix_coocurrence, 'contrast')\n",
    "    diss = greycoprops(matrix_coocurrence, 'dissimilarity')\n",
    "    homog = greycoprops(matrix_coocurrence, 'homogeneity')\n",
    "    energ = greycoprops(matrix_coocurrence, 'energy')\n",
    "    correl = greycoprops(matrix_coocurrence, 'correlation')\n",
    "    asm = greycoprops(matrix_coocurrence, 'ASM')\n",
    "\n",
    "    feat.append(contraste[0][0]) #1\n",
    "    feat.append(contraste[0][1]) #2\n",
    "    feat.append(contraste[0][2]) #3\n",
    "    feat.append(contraste[0][3]) #4\n",
    "    feat.append(diss[0][0])      #5\n",
    "    feat.append(diss[0][1])      #6\n",
    "    feat.append(diss[0][2])      #7\n",
    "    feat.append(diss[0][3])      #8\n",
    "    feat.append(homog[0][0])     #9\n",
    "    feat.append(homog[0][1])     #10\n",
    "    feat.append(homog[0][2])     #11\n",
    "    feat.append(homog[0][3])     #12\n",
    "    feat.append(energ[0][0])     #13\n",
    "    feat.append(energ[0][1])     #14\n",
    "    feat.append(energ[0][2])     #15\n",
    "    feat.append(energ[0][3])     #16\n",
    "    feat.append(correl[0][0])    #17\n",
    "    feat.append(correl[0][1])    #18\n",
    "    feat.append(correl[0][2])    #19\n",
    "    feat.append(correl[0][3])    #20\n",
    "    feat.append(asm[0][0])       #21\n",
    "    feat.append(asm[0][1])       #22\n",
    "    feat.append(asm[0][2])       #23\n",
    "    feat.append(asm[0][3])       #24\n",
    "\n",
    "    return feat\n"
   ]
  },
  {
   "cell_type": "code",
   "execution_count": 62,
   "metadata": {},
   "outputs": [
    {
     "name": "stderr",
     "output_type": "stream",
     "text": [
      "100%|██████████| 30/30 [00:12<00:00,  2.44it/s]\n",
      "100%|██████████| 16/16 [00:07<00:00,  2.17it/s]\n"
     ]
    }
   ],
   "source": [
    "Glaucoma_feat = []\n",
    "Normal_feat = []\n",
    "\n",
    "for img in tqdm(Glaucoma):\n",
    "    Glaucoma_feat.append(GLCM(img))\n",
    "for img in tqdm(Normal):\n",
    "    Normal_feat.append(GLCM(img))"
   ]
  },
  {
   "cell_type": "code",
   "execution_count": 63,
   "metadata": {},
   "outputs": [
    {
     "data": {
      "text/plain": [
       "16"
      ]
     },
     "execution_count": 63,
     "metadata": {},
     "output_type": "execute_result"
    }
   ],
   "source": [
    "len(Normal_feat)"
   ]
  },
  {
   "cell_type": "code",
   "execution_count": null,
   "metadata": {},
   "outputs": [],
   "source": []
  },
  {
   "cell_type": "code",
   "execution_count": null,
   "metadata": {},
   "outputs": [],
   "source": []
  }
 ],
 "metadata": {
  "kernelspec": {
   "display_name": "Python 3",
   "language": "python",
   "name": "python3"
  },
  "language_info": {
   "codemirror_mode": {
    "name": "ipython",
    "version": 3
   },
   "file_extension": ".py",
   "mimetype": "text/x-python",
   "name": "python",
   "nbconvert_exporter": "python",
   "pygments_lexer": "ipython3",
   "version": "3.7.4"
  }
 },
 "nbformat": 4,
 "nbformat_minor": 4
}
